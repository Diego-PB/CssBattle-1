{
 "cells": [
  {
   "cell_type": "markdown",
   "metadata": {},
   "source": [
    "# Css Battle\n",
    "\n",
    "## Bienvenu sur ce noteBook Jupyter\n",
    "Ce projet retrace tous mes css battle de jour en jour. </br> \n",
    "Css Battle est un site qui consiste à devoir reproduire une figure donnée en html/CSS. </br> <br> \n",
    "Le but étant de fournir le code contenant le moins de caractère possible afin de gagner le plus de points. </br>\n",
    "Le site Css Battle propose des niveaux quotidient, voici l'url du site : https://cssbattle.dev/ </br><br> \n",
    "Ainsi je vais vous partager tous lse niveaux de css battle que j'effectue tous les jours. <br> \n",
    "Pour cela je vous mettrait d'abord l'image à reproduire et ensuite le code classique pour reproduire l'image et enfin le code optimisé c'est-à-dire le code qui permet de gagner le plus de point en retirant le plus d'espace possible par exemple.       </br> </br> </br>"
   ]
  },
  {
   "cell_type": "markdown",
   "metadata": {},
   "source": [
    "### Niveau quotidient du 10/02/2024 : <br> \n",
    "<img src = \"CssBattle_10.02.2024.png\"> </br>\n",
    "\n",
    "</br>\n",
    "Code Classique : \n",
    "\n"
   ]
  },
  {
   "cell_type": "code",
   "execution_count": null,
   "metadata": {
    "vscode": {
     "languageId": "html"
    }
   },
   "outputs": [],
   "source": [
    "<div class=\"a\"></div>\n",
    "<div class=\"b\"></div>\n",
    "<div class=\"c\"></div>\n",
    "<div class=\"d\"></div>\n",
    "<style>\n",
    "*{background:#024817;position:fixed}\n",
    "  .a{\n",
    "    width:180;\n",
    "    height:180;\n",
    "    background:#fff;\n",
    "  left:110;top:60\n",
    "  }\n",
    "  .b,.c,.d{\n",
    "    background:#024817;\n",
    "    width:30;\n",
    "    height:60;\n",
    "    top:90;left:170\n",
    "  }\n",
    "  .b{\n",
    "    left:230;\n",
    "  }\n",
    "  .c{\n",
    "    height:120;\n",
    "    rotate:90deg;\n",
    "    top:135;left:185\n",
    "  }"
   ]
  },
  {
   "cell_type": "markdown",
   "metadata": {},
   "source": [
    "Code Opimisé en une seule ligne  : "
   ]
  },
  {
   "cell_type": "code",
   "execution_count": null,
   "metadata": {
    "vscode": {
     "languageId": "html"
    }
   },
   "outputs": [],
   "source": [
    "<div class=\"d\"></div><div class=\"a\"></div><div class=\"b\"></div><div class=\"c\"></div><style>*{background:#024817;position:fixed}.d{width:180;height:180;background:#fff;left:110;top:60}.a,.b,.c{background:#024817;width:30;height:60;top:90;left:170}.b{left:230;}.c{height:120;rotate:90deg;top:135;left:185}"
   ]
  },
  {
   "cell_type": "markdown",
   "metadata": {},
   "source": [
    "### Niveau Quotidient du 09/02/2024 : </br>\n",
    "\n",
    "<img src = \"09_02_2024.png\"> </br>\n",
    "\n",
    "Code Classique : \n",
    "\n"
   ]
  },
  {
   "cell_type": "code",
   "execution_count": null,
   "metadata": {
    "vscode": {
     "languageId": "html"
    }
   },
   "outputs": [],
   "source": [
    "<div class=\"a\"></div>\n",
    "<div class=\"b\"></div>\n",
    "<div class=\"c\"></div>\n",
    "<div class=\"d\"></div>\n",
    "<div class=\"e\"></div>\n",
    "<style>\n",
    "  *{background:#1E1D50;position:fixed}\n",
    ".a{\n",
    "    width:100;\n",
    "    height:139;\n",
    "    background:#EEECF6;\n",
    "    left:150;top:80;\n",
    "    border-radius:99q\n",
    "  }\n",
    ".b{\n",
    "  width:139;\n",
    "  height:179;\n",
    "  background:transparent;\n",
    "  left:110;top:40;\n",
    "  border-radius: 13em;\n",
    "  border:solid 22q #EEECF6\n",
    "}\n",
    ".c,.d {\n",
    "  width:50;\n",
    "  height:19.5;\n",
    "  left:150;top:120\n",
    "}\n",
    ".d{\n",
    "  top:160\n",
    "}\n",
    ".e{\n",
    "  width:20;\n",
    "  height:90;\n",
    "  background:#EEECF6;\n",
    "  top:217;\n",
    "  left:190;\n",
    "}"
   ]
  },
  {
   "cell_type": "markdown",
   "metadata": {},
   "source": [
    "Code Optimisé en une seule ligne : "
   ]
  },
  {
   "cell_type": "code",
   "execution_count": null,
   "metadata": {
    "vscode": {
     "languageId": "html"
    }
   },
   "outputs": [],
   "source": [
    "<div class=\"a\"></div><div class=\"b\"></div><div class=\"c\"></div><div class=\"d\"></div><div class=\"e\"></div><style>*{background:#1E1D50;position:fixed}.a{width:100;height:139;background:#EEECF6;left:150;top:80;border-radius:99q}.b{width:139;height:179;background:transparent;left:110;top:40;border-radius:13em;border:solid 22q#EEECF6}.c,.d{width:50;height:19.5;left:150;top:120}.d{top:160}.e{width:20;height:90;background:#EEECF6;top:217;left:190}"
   ]
  }
 ],
 "metadata": {
  "kernelspec": {
   "display_name": "Python 3",
   "language": "python",
   "name": "python3"
  },
  "language_info": {
   "codemirror_mode": {
    "name": "ipython",
    "version": 3
   },
   "file_extension": ".py",
   "mimetype": "text/x-python",
   "name": "python",
   "nbconvert_exporter": "python",
   "pygments_lexer": "ipython3",
   "version": "3.11.8"
  }
 },
 "nbformat": 4,
 "nbformat_minor": 2
}
